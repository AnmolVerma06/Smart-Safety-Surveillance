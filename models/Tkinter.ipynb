{
 "cells": [
  {
   "cell_type": "code",
   "execution_count": 4,
   "id": "9d4cc326",
   "metadata": {
    "scrolled": true
   },
   "outputs": [
    {
     "ename": "SyntaxError",
     "evalue": "invalid syntax (159329990.py, line 1)",
     "output_type": "error",
     "traceback": [
      "\u001b[1;36m  Cell \u001b[1;32mIn[4], line 1\u001b[1;36m\u001b[0m\n\u001b[1;33m    git clone https://github.com/ultralytics/yolov5.git\u001b[0m\n\u001b[1;37m        ^\u001b[0m\n\u001b[1;31mSyntaxError\u001b[0m\u001b[1;31m:\u001b[0m invalid syntax\n"
     ]
    }
   ],
   "source": [
    "git clone https://github.com/ultralytics/yolov5.git\n",
    "cd yolov5\n",
    "!pip install -U -r requirements.txt\n",
    "\n",
    "import tkinter as tk\n",
    "import cv2\n",
    "from PIL import Image, ImageTk\n",
    "import torch\n",
    "from torchvision.transforms import functional as F\n",
    "from models.experimental import attempt_load\n",
    "from utils.general import non_max_suppression, scale_coords\n",
    "from utils.datasets import letterbox\n",
    "\n",
    "class ObjectDetector:\n",
    "    def __init__(self, model_path='best.pt'):\n",
    "        self.model = attempt_load(model_path, map_location=torch.device('cpu')).fuse().eval()\n",
    "        self.img_size = 640  # set default image size\n",
    "        self.conf_thres = 0.4  # set default confidence threshold\n",
    "        self.iou_thres = 0.5  # set default IoU threshold\n",
    "\n",
    "    def detect_objects(self, frame):\n",
    "        img = letterbox(frame, new_shape=self.img_size)[0]\n",
    "        img = F.normalize(F.to_tensor(img), 0.5, 0.5)\n",
    "        img = img.unsqueeze(0)\n",
    "\n",
    "        pred = self.model(img)[0]\n",
    "        pred = non_max_suppression(pred, self.conf_thres, self.iou_thres)[0]\n",
    "\n",
    "        if pred is not None:\n",
    "            pred[:, :4] = scale_coords(img.shape[2:], pred[:, :4], frame.shape).round()\n",
    "        return pred\n",
    "\n",
    "class App:\n",
    "    def __init__(self, window, window_title):\n",
    "        self.window = window\n",
    "        self.window.title(window_title)\n",
    "        self.video_source = 0\n",
    "        self.detector = ObjectDetector()\n",
    "\n",
    "        self.canvas = tk.Canvas(window, width=640, height=480)\n",
    "        self.canvas.pack()\n",
    "\n",
    "        self.btn_quit = tk.Button(window, text=\"Quit\", width=10, command=self.on_quit)\n",
    "        self.btn_quit.pack(anchor=tk.CENTER, expand=True)\n",
    "\n",
    "        self.delay = 15\n",
    "        self.update()\n",
    "\n",
    "        self.window.mainloop()\n",
    "\n",
    "    def update(self):\n",
    "        ret, frame = self.get_frame()\n",
    "        if ret:\n",
    "            self.photo = ImageTk.PhotoImage(image=Image.fromarray(cv2.cvtColor(frame, cv2.COLOR_BGR2RGB)))\n",
    "            self.canvas.create_image(0, 0, image=self.photo, anchor=tk.NW)\n",
    "        self.window.after(self.delay, self.update)\n",
    "\n",
    "    def get_frame(self):\n",
    "        cap = cv2.VideoCapture(self.video_source)\n",
    "        if not cap.isOpened():\n",
    "            return False, None\n",
    "        ret, frame = cap.read()\n",
    "        if ret:\n",
    "            pred = self.detector.detect_objects(frame)\n",
    "            # Draw bounding boxes on the frame\n",
    "            if pred is not None:\n",
    "                for *xyxy, conf, cls in pred:\n",
    "                    cv2.rectangle(frame, (int(xyxy[0]), int(xyxy[1])), (int(xyxy[2]), int(xyxy[3])), (255, 0, 0), 2)\n",
    "            return ret, cv2.cvtColor(frame, cv2.COLOR_BGR2RGB)\n",
    "        else:\n",
    "            return ret, None\n",
    "\n",
    "    def on_quit(self):\n",
    "        self.window.destroy()\n",
    "\n",
    "App(tk.Tk(), \"YOLOv5 Object Detection\")\n",
    "\n"
   ]
  },
  {
   "cell_type": "code",
   "execution_count": null,
   "id": "251524f0",
   "metadata": {},
   "outputs": [],
   "source": []
  }
 ],
 "metadata": {
  "kernelspec": {
   "display_name": "Python 3 (ipykernel)",
   "language": "python",
   "name": "python3"
  },
  "language_info": {
   "codemirror_mode": {
    "name": "ipython",
    "version": 3
   },
   "file_extension": ".py",
   "mimetype": "text/x-python",
   "name": "python",
   "nbconvert_exporter": "python",
   "pygments_lexer": "ipython3",
   "version": "3.10.9"
  }
 },
 "nbformat": 4,
 "nbformat_minor": 5
}
